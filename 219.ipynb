{
 "nbformat": 4,
 "nbformat_minor": 2,
 "metadata": {
  "language_info": {
   "name": "python",
   "codemirror_mode": {
    "name": "ipython",
    "version": 3
   },
   "version": "3.6.9"
  },
  "orig_nbformat": 2,
  "file_extension": ".py",
  "mimetype": "text/x-python",
  "name": "python",
  "npconvert_exporter": "python",
  "pygments_lexer": "ipython3",
  "version": 3
 },
 "cells": [
  {
   "cell_type": "markdown",
   "execution_count": null,
   "metadata": {},
   "outputs": [],
   "source": [
    "Given an array of integers and an integer k, find out whether there are two distinct indices i and j in the array such that nums[i] = nums[j] and the absolute difference between i and j is at most k.\n",
    "\n",
    "Example 1:\n",
    "Input: nums = [1,2,3,1], k = 3\n",
    "Output: true\n",
    "\n",
    "Example 2:\n",
    "Input: nums = [1,0,1,1], k = 1\n",
    "Output: true\n",
    "\n",
    "Example 3:\n",
    "Input: nums = [1,2,3,1,2,3], k = 2\n",
    "Output: false"
   ]
  },
  {
   "cell_type": "code",
   "execution_count": 22,
   "metadata": {},
   "outputs": [
    {
     "name": "stdout",
     "output_type": "stream",
     "text": "True\nFalse\nTrue\nTrue\nTrue\nTrue\nFalse\n"
    }
   ],
   "source": [
    "# 超时\n",
    "from typing import List\n",
    "class Solution:\n",
    "    def containsNearbyDuplicate(self, nums: List[int], k: int) -> bool:\n",
    "        for i in range(len(nums)):\n",
    "                for j in range(i+1,min(i+1+k,len(nums))):\n",
    "                    if nums[i]==nums[j] and j-i<=k:\n",
    "                        return True\n",
    "        return False\n",
    "print(Solution().containsNearbyDuplicate([1,0,1,1],1))\n",
    "print(Solution().containsNearbyDuplicate(nums = [1,2,3,1,2,3], k = 2))\n",
    "print(Solution().containsNearbyDuplicate(nums = [1,2,3,1], k = 3))\n",
    "print(Solution().containsNearbyDuplicate(nums = [99,99], k = 2))\n",
    "print(Solution().containsNearbyDuplicate(nums = [99,99], k = 3))\n",
    "print(Solution().containsNearbyDuplicate(nums = [1,2,3,4,5,6,7,8,9,9], k = 3))\n",
    "print(Solution().containsNearbyDuplicate(nums = [1,2,3,4,5,6,7,8,9,10], k =15))\n"
   ]
  },
  {
   "cell_type": "code",
   "execution_count": 27,
   "metadata": {},
   "outputs": [
    {
     "name": "stdout",
     "output_type": "stream",
     "text": "True\nFalse\nTrue\nTrue\nTrue\nTrue\nFalse\n"
    }
   ],
   "source": [
    "# HashMap\n",
    "from typing import List\n",
    "class Solution:\n",
    "    def containsNearbyDuplicate(self, nums: List[int], k: int) -> bool:\n",
    "        help_map={}\n",
    "        for i in range(len(nums)):\n",
    "            if nums[i] not in help_map:\n",
    "                help_map[nums[i]]=i\n",
    "            else:\n",
    "                if i-help_map[nums[i]]<=k:\n",
    "                    return True\n",
    "                else:\n",
    "                    help_map[nums[i]]=i\n",
    "        return False\n",
    "print(Solution().containsNearbyDuplicate([1,0,1,1],1))\n",
    "print(Solution().containsNearbyDuplicate(nums = [1,2,3,1,2,3], k = 2))\n",
    "print(Solution().containsNearbyDuplicate(nums = [1,2,3,1], k = 3))\n",
    "print(Solution().containsNearbyDuplicate(nums = [99,99], k = 2))\n",
    "print(Solution().containsNearbyDuplicate(nums = [99,99], k = 3))\n",
    "print(Solution().containsNearbyDuplicate(nums = [1,2,3,4,5,6,7,8,9,9], k = 3))\n",
    "print(Solution().containsNearbyDuplicate(nums = [1,2,3,4,5,6,7,8,9,10], k =15))"
   ]
  },
  {
   "cell_type": "code",
   "execution_count": 36,
   "metadata": {},
   "outputs": [
    {
     "name": "stdout",
     "output_type": "stream",
     "text": "True\nFalse\nTrue\nTrue\nTrue\nTrue\nFalse\nTrue\n"
    }
   ],
   "source": [
    "# 散列表\n",
    "from typing import List\n",
    "class Solution:\n",
    "    def containsNearbyDuplicate(self, nums: List[int], k: int) -> bool:\n",
    "        if k<=0:\n",
    "            return False\n",
    "        help_set=set()\n",
    "        for i in range(len(nums)):\n",
    "            if nums[i] in help_set:\n",
    "                return True\n",
    "            if len(help_set)>=k:\n",
    "                help_set.discard(nums[i - k])\n",
    "            help_set.add(nums[i])\n",
    "        return False\n",
    "print(Solution().containsNearbyDuplicate([1,0,1,1],1))\n",
    "print(Solution().containsNearbyDuplicate(nums = [1,2,3,1,2,3], k = 2))\n",
    "print(Solution().containsNearbyDuplicate(nums = [1,2,3,1], k = 3))\n",
    "print(Solution().containsNearbyDuplicate(nums = [99,99], k = 2))\n",
    "print(Solution().containsNearbyDuplicate(nums = [99,99], k = 3))\n",
    "print(Solution().containsNearbyDuplicate(nums = [1,2,3,4,5,6,7,8,9,9], k = 3))\n",
    "print(Solution().containsNearbyDuplicate(nums = [1,2,3,4,5,6,7,8,9,10], k =15))\n",
    "print(Solution().containsNearbyDuplicate(nums = [1,2,1], k =0))"
   ]
  },
  {
   "cell_type": "markdown",
   "execution_count": null,
   "metadata": {},
   "outputs": [],
   "source": [
    "这个方法的核心在于降低方法一中搜索前 kk 个元素所耗费的时间。可以想一下，我们能不能用一个更复杂的数据结构来维持这个 kk 大小的滑动窗口内元素的有序性呢？考虑到滑动窗口内元素是严格遵守先进先出的，那么队列会是一个非常自然就能想到的数据结构。链表实现的队列可以支持在常数时间内的 删除，插入，然而 搜索 耗费的时间却是线性的，所以如果用队列来实现的话结果并不会比方法一更好。\n",
    "\n",
    "一个更好的选择是使用自平衡二叉搜索树（BST)。 BST 中搜索，删除，插入都可以保持 O(\\log k)O(logk) 的时间复杂度，其中 kk 是 BST 中元素的个数。在大部分面试中你都不需要自己去实现一个 BST，所以把 BST 当成一个黑盒子就可以了。大部分的编程语言都会在标准库里面提供这些常见的数据结构。在 Java 里面，你可以用 TreeSet 或者是 TreeMap。在 C++ STL 里面，你可以用 std::set 或者是 std::map。\n",
    "\n",
    "假设你已经有了这样一个数据结构，伪代码是这样的：\n",
    "\n",
    "遍历数组，对于每个元素做以下操作：\n",
    "在 BST 中搜索当前元素，如果找到了就返回 true。\n",
    "在 BST 中插入当前元素。\n",
    "如果当前 BST 的大小超过了 kk，删除当前 BST 中最旧的元素。\n",
    "返回 false。\n",
    "\n",
    "作者：LeetCode\n",
    "链接：https://leetcode-cn.com/problems/contains-duplicate-ii/solution/cun-zai-zhong-fu-yuan-su-ii-by-leetcode/\n",
    "来源：力扣（LeetCode）\n",
    "著作权归作者所有。商业转载请联系作者获得授权，非商业转载请注明出处。\n",
    "\n",
    "# 暴力法平衡二叉树优化\n",
    "public boolean containsNearbyDuplicate(int[] nums, int k) {\n",
    "    Set<Integer> set = new TreeSet<>();\n",
    "    for (int i = 0; i < nums.length; ++i) {\n",
    "        if (set.contains(nums[i])) return true;\n",
    "        set.add(nums[i]);\n",
    "        if (set.size() > k) {\n",
    "            set.remove(nums[i - k]);\n",
    "        }\n",
    "    }\n",
    "    return false;\n",
    "}\n",
    "\n",
    "作者：LeetCode\n",
    "链接：https://leetcode-cn.com/problems/contains-duplicate-ii/solution/cun-zai-zhong-fu-yuan-su-ii-by-leetcode/\n",
    "来源：力扣（LeetCode）\n",
    "著作权归作者所有。商业转载请联系作者获得授权，非商业转载请注明出处。\n"
   ]
  }
 ]
}