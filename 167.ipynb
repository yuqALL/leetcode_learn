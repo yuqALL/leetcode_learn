{
 "nbformat": 4,
 "nbformat_minor": 2,
 "metadata": {
  "language_info": {
   "name": "python",
   "codemirror_mode": {
    "name": "ipython",
    "version": 3
   },
   "version": "3.6.9"
  },
  "orig_nbformat": 2,
  "file_extension": ".py",
  "mimetype": "text/x-python",
  "name": "python",
  "npconvert_exporter": "python",
  "pygments_lexer": "ipython3",
  "version": 3
 },
 "cells": [
  {
   "cell_type": "code",
   "metadata": {},
   "outputs": [],
   "source": [
    "Given an array of integers that is already sorted in ascending order, find two numbers such that they add up to a specific target number.\n",
    "\n",
    "The function twoSum should return indices of the two numbers such that they add up to the target, where index1 must be less than index2.\n",
    "\n",
    "Note:\n",
    "\n",
    "Your returned answers (both index1 and index2) are not zero-based.\n",
    "You may assume that each input would have exactly one solution and you may not use the same element twice.\n",
    "Example:\n",
    "\n",
    "Input: numbers = [2,7,11,15], target = 9\n",
    "Output: [1,2]\n",
    "Explanation: The sum of 2 and 7 is 9. Therefore index1 = 1, index2 = 2."
   ]
  },
  {
   "cell_type": "code",
   "metadata": {},
   "outputs": [],
   "source": [
    "# 暴力法\n",
    "from typing import List\n",
    "class Solution:\n",
    "    def twoSum(self, numbers: List[int], target: int) -> List[int]:\n",
    "        n=len(numbers)\n",
    "        for i in range(n-1):\n",
    "            for j in range(i+1,n):\n",
    "                if numbers[i]+numbers[j]==target:\n",
    "                    return [i+1,j+1]\n",
    "        return [-1,-1]\n",
    "\n",
    "print(Solution().twoSum([2,7,11,15],9))"
   ]
  },
  {
   "cell_type": "code",
   "metadata": {},
   "outputs": [],
   "source": [
    "# 暴力法改进1----- 超时\n",
    "from typing import List\n",
    "class Solution:\n",
    "    def twoSum(self, numbers: List[int], target: int) -> List[int]:\n",
    "        n=len(numbers)\n",
    "        for i in range(n-1):\n",
    "            for j in range(i+1,n):\n",
    "                t=numbers[i]+numbers[j]\n",
    "                if t==target:\n",
    "                    return [i+1,j+1]\n",
    "                elif t>target:\n",
    "                    break\n",
    "        return [-1,-1]\n",
    "\n",
    "print(Solution().twoSum([2,7,11,15],9))"
   ]
  },
  {
   "cell_type": "code",
   "metadata": {},
   "outputs": [],
   "source": [
    "# 暴力法改进2-----76 ms, 在所有 python3 提交中击败了86.40%的用户\n",
    "# 加上pre_sub,执行用时 :132 ms, 在所有 python3 提交中击败了10.08%的用户\n",
    "from typing import List\n",
    "class Solution:\n",
    "    def twoSum(self, numbers: List[int], target: int) -> List[int]:\n",
    "        n=len(numbers)\n",
    "        pre=None\n",
    "        for i in range(n-1):\n",
    "            if numbers[i]==pre:\n",
    "                continue\n",
    "            # pre_sub=None\n",
    "            for j in range(i+1,n):\n",
    "                # if numbers[j]==pre_sub:\n",
    "                #     continue\n",
    "                t=numbers[i]+numbers[j]\n",
    "                if t==target:\n",
    "                    return [i+1,j+1]\n",
    "                elif t>target:\n",
    "                    break\n",
    "                pre=numbers[i]\n",
    "                # pre_sub=numbers[j]\n",
    "        return [-1,-1]\n",
    "\n",
    "print(Solution().twoSum([2,7,11,15],9))"
   ]
  },
  {
   "cell_type": "code",
   "metadata": {},
   "outputs": [],
   "source": [
    "from typing import List\n",
    "class Solution:\n",
    "    def twoSum(self, numbers: List[int], target: int) -> List[int]:\n",
    "        n=len(numbers)\n",
    "        # print(left,-1//2)\n",
    "        def binarySearchIndex(sortedList,targetV):\n",
    "            left=0\n",
    "            right=len(sortedList)-1\n",
    "            center=left+(right-left)//2\n",
    "            while left<right:\n",
    "                if sortedList[center]<targetV:\n",
    "                    left=center+1\n",
    "                    center=left+(right-left)//2\n",
    "                else:\n",
    "                    right=center\n",
    "                    center=left+(right-left)//2\n",
    "            return left\n",
    "\n",
    "        left=binarySearchIndex(numbers,target//2)\n",
    "        for i in range(left+1):\n",
    "            r=binarySearchIndex(numbers[i+1:],target-numbers[i])\n",
    "            if numbers[i+r+1]+numbers[i]==target:\n",
    "                return [i+1,i+1+r+1]\n",
    "            \n",
    "        return [-1,-1]\n",
    "\n",
    "print(Solution().twoSum([-1,0],-1))\n",
    "print(Solution().twoSum([2,7,11,15],9))\n",
    "print(Solution().twoSum([0,0,3,4],0))\n",
    "print(Solution().twoSum([2,3,4],6))"
   ]
  },
  {
   "cell_type": "code",
   "metadata": {},
   "outputs": [],
   "source": [
    "# haspmap实现，将第一次访问过的数字放入map，键值为下标\n",
    "from typing import List\n",
    "class Solution:\n",
    "    def twoSum(self, numbers: List[int], target: int) -> List[int]:\n",
    "        visited={}\n",
    "        for index,number in enumerate(numbers):\n",
    "            if target-number in visited:\n",
    "                return [visited[target-number],index+1]\n",
    "            else:\n",
    "                visited[number]=index+1\n",
    "print(Solution().twoSum([-1,0],-1))\n",
    "print(Solution().twoSum([2,7,11,15],9))\n",
    "print(Solution().twoSum([0,0,3,4],0))\n",
    "print(Solution().twoSum([2,3,4],6))"
   ]
  },
  {
   "cell_type": "code",
   "metadata": {},
   "outputs": [],
   "source": [
    "# 双指针实现\n",
    "from typing import List\n",
    "class Solution:\n",
    "    def twoSum(self, numbers: List[int], target: int) -> List[int]:\n",
    "        start=0\n",
    "        end=len(numbers)-1\n",
    "        while start<end:\n",
    "            t=numbers[end]+numbers[start]\n",
    "            if t>target:\n",
    "                end-=1\n",
    "            elif t<target:\n",
    "                start+=1\n",
    "            else:\n",
    "                return [start+1,end+1]\n",
    "                \n",
    "print(Solution().twoSum([-1,0],-1))\n",
    "print(Solution().twoSum([2,7,11,15],9))\n",
    "print(Solution().twoSum([0,0,3,4],0))\n",
    "print(Solution().twoSum([2,3,4],6))"
   ]
  },
  {
   "cell_type": "code",
   "metadata": {},
   "outputs": [],
   "source": []
  }
 ]
}