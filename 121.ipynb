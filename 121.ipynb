{
 "nbformat": 4,
 "nbformat_minor": 2,
 "metadata": {
  "language_info": {
   "name": "python",
   "codemirror_mode": {
    "name": "ipython",
    "version": 3
   },
   "version": "3.6.9"
  },
  "orig_nbformat": 2,
  "file_extension": ".py",
  "mimetype": "text/x-python",
  "name": "python",
  "npconvert_exporter": "python",
  "pygments_lexer": "ipython3",
  "version": 3
 },
 "cells": [
  {
   "cell_type": "code",
   "execution_count": null,
   "metadata": {},
   "outputs": [],
   "source": [
    "Say you have an array for which the ith element is the price of a given stock on day i.\n",
    "\n",
    "If you were only permitted to complete at most one transaction (i.e., buy one and sell one share of the stock), design an algorithm to find the maximum profit.\n",
    "\n",
    "Note that you cannot sell a stock before you buy one.\n",
    "\n",
    "Example 1:\n",
    "\n",
    "Input: [7,1,5,3,6,4]\n",
    "Output: 5\n",
    "Explanation: Buy on day 2 (price = 1) and sell on day 5 (price = 6), profit = 6-1 = 5.\n",
    "             Not 7-1 = 6, as selling price needs to be larger than buying price.\n",
    "Example 2:\n",
    "\n",
    "Input: [7,6,4,3,1]\n",
    "Output: 0\n",
    "Explanation: In this case, no transaction is done, i.e. max profit = 0."
   ]
  },
  {
   "cell_type": "code",
   "execution_count": 3,
   "metadata": {},
   "outputs": [
    {
     "name": "stdout",
     "output_type": "stream",
     "text": "0\n"
    }
   ],
   "source": [
    "# 暴力超时\n",
    "from typing import List\n",
    "class Solution:\n",
    "    def maxProfit(self, prices: List[int]) -> int:\n",
    "        max_profit=0\n",
    "        n=len(prices)\n",
    "        if n==0 or n==1:\n",
    "            return 0\n",
    "        for i in range(n):\n",
    "            cur_max = float('-inf')\n",
    "            for j in range(i,n):\n",
    "                if prices[j]-prices[i]>cur_max:\n",
    "                    cur_max=prices[j]-prices[i]\n",
    "            if cur_max>max_profit:\n",
    "                max_profit=cur_max\n",
    "        return max_profit\n",
    "\n",
    "print(Solution().maxProfit([7,6,4,3,1]))"
   ]
  },
  {
   "cell_type": "code",
   "execution_count": 6,
   "metadata": {},
   "outputs": [
    {
     "name": "stdout",
     "output_type": "stream",
     "text": "0\n"
    }
   ],
   "source": [
    "from typing import List\n",
    "class Solution:\n",
    "    def maxProfit(self, prices: List[int]) -> int:\n",
    "        max_profit=0\n",
    "        n=len(prices)\n",
    "        if n==0 or n==1:\n",
    "            return 0\n",
    "        pre_list_min=prices[0]\n",
    "        for i in range(1,n):\n",
    "            if prices[i]>pre_list_min:\n",
    "                t=prices[i]-pre_list_min\n",
    "                if t>max_profit:\n",
    "                    max_profit=t\n",
    "            else:\n",
    "               pre_list_min=prices[i]              \n",
    "        return max_profit\n",
    "\n",
    "print(Solution().maxProfit([7,6,4,3,1]))"
   ]
  },
  {
   "cell_type": "code",
   "execution_count": null,
   "metadata": {},
   "outputs": [],
   "source": []
  }
 ]
}