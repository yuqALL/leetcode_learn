{
 "nbformat": 4,
 "nbformat_minor": 2,
 "metadata": {
  "language_info": {
   "name": "python",
   "codemirror_mode": {
    "name": "ipython",
    "version": 3
   },
   "version": "3.6.9"
  },
  "orig_nbformat": 2,
  "file_extension": ".py",
  "mimetype": "text/x-python",
  "name": "python",
  "npconvert_exporter": "python",
  "pygments_lexer": "ipython3",
  "version": 3
 },
 "cells": [
  {
   "cell_type": "code",
   "execution_count": null,
   "metadata": {},
   "outputs": [],
   "source": [
    "Write a function that takes an unsigned integer and return the number of '1' bits it has (also known as the Hamming weight).\n",
    "\n",
    "\n",
    "\n",
    "Example 1:\n",
    "\n",
    "Input: 00000000000000000000000000001011\n",
    "Output: 3\n",
    "Explanation: The input binary string 00000000000000000000000000001011 has a total of three '1' bits.\n",
    "Example 2:\n",
    "\n",
    "Input: 00000000000000000000000010000000\n",
    "Output: 1\n",
    "Explanation: The input binary string 00000000000000000000000010000000 has a total of one '1' bit.\n",
    "Example 3:\n",
    "\n",
    "Input: 11111111111111111111111111111101\n",
    "Output: 31\n",
    "Explanation: The input binary string 11111111111111111111111111111101 has a total of thirty one '1' bits.\n",
    "\n",
    "\n",
    "Note:\n",
    "\n",
    "Note that in some languages such as Java, there is no unsigned integer type. In this case, the input will be given as signed integer type and should not affect your implementation, as the internal binary representation of the integer is the same whether it is signed or unsigned.\n",
    "In Java, the compiler represents the signed integers using 2's complement notation. Therefore, in Example 3 above the input represents the signed integer -3.\n"
   ]
  },
  {
   "cell_type": "code",
   "execution_count": 3,
   "metadata": {},
   "outputs": [
    {
     "name": "stdout",
     "output_type": "stream",
     "text": "0\n1\n2\n"
    }
   ],
   "source": [
    "class Solution:\n",
    "    def hammingWeight(self, n: int) -> int:\n",
    "        t=0\n",
    "        while n>0:\n",
    "            t+=1\n",
    "            n-=n&(~(n-1))\n",
    "        return t\n",
    "print(Solution().hammingWeight(5))"
   ]
  },
  {
   "cell_type": "code",
   "execution_count": 4,
   "metadata": {},
   "outputs": [
    {
     "name": "stdout",
     "output_type": "stream",
     "text": "2\n"
    }
   ],
   "source": [
    "class Solution:\n",
    "    def hammingWeight(self, n: int) -> int:\n",
    "        t=0\n",
    "        while n>0:\n",
    "            t+=1\n",
    "            n=n&(n-1)\n",
    "        return t\n",
    "print(Solution().hammingWeight(5))"
   ]
  },
  {
   "cell_type": "code",
   "execution_count": null,
   "metadata": {},
   "outputs": [],
   "source": []
  }
 ]
}