{
 "nbformat": 4,
 "nbformat_minor": 2,
 "metadata": {
  "language_info": {
   "name": "python",
   "codemirror_mode": {
    "name": "ipython",
    "version": 3
   },
   "version": "3.6.9"
  },
  "orig_nbformat": 2,
  "file_extension": ".py",
  "mimetype": "text/x-python",
  "name": "python",
  "npconvert_exporter": "python",
  "pygments_lexer": "ipython3",
  "version": 3
 },
 "cells": [
  {
   "cell_type": "code",
   "execution_count": null,
   "metadata": {},
   "outputs": [],
   "source": [
    "Given two arrays, write a function to compute their intersection.\n",
    "\n",
    "Example 1:\n",
    "\n",
    "Input: nums1 = [1,2,2,1], nums2 = [2,2]\n",
    "Output: [2]\n",
    "Example 2:\n",
    "\n",
    "Input: nums1 = [4,9,5], nums2 = [9,4,9,8,4]\n",
    "Output: [9,4]\n",
    "Note:\n",
    "\n",
    "Each element in the result must be unique.\n",
    "The result can be in any order."
   ]
  },
  {
   "cell_type": "code",
   "execution_count": 3,
   "metadata": {},
   "outputs": [
    {
     "name": "stdout",
     "output_type": "stream",
     "text": "{9, 4}\n"
    }
   ],
   "source": [
    "from typing import List\n",
    "class Solution:\n",
    "    def intersection(self, nums1: List[int], nums2: List[int]) -> List[int]:\n",
    "        nums1_set=set()\n",
    "        output=[]\n",
    "        for num in nums1:\n",
    "            nums1_set.add(num)\n",
    "        for num in nums2:\n",
    "            if num in nums1_set:\n",
    "                output.append(num)\n",
    "                nums1_set.remove(num)\n",
    "        return output\n",
    "    \n",
    "    # 另一种解法：利用 Python 中的集合进行计算\n",
    "    def intersection2(self, nums1: List[int], nums2: List[int]) -> List[int]:\n",
    "        return set(nums1) & set(nums2)\n",
    "print(Solution().intersection2(nums1 = [4,9,5], nums2 = [9,4,9,8,4]))\n"
   ]
  },
  {
   "cell_type": "code",
   "execution_count": null,
   "metadata": {},
   "outputs": [],
   "source": []
  }
 ]
}