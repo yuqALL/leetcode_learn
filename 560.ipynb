{
 "nbformat": 4,
 "nbformat_minor": 2,
 "metadata": {
  "language_info": {
   "name": "python",
   "codemirror_mode": {
    "name": "ipython",
    "version": 3
   },
   "version": "3.6.9"
  },
  "orig_nbformat": 2,
  "file_extension": ".py",
  "mimetype": "text/x-python",
  "name": "python",
  "npconvert_exporter": "python",
  "pygments_lexer": "ipython3",
  "version": 3
 },
 "cells": [
  {
   "cell_type": "code",
   "execution_count": null,
   "metadata": {},
   "outputs": [],
   "source": [
    "Given an array of integers and an integer k, you need to find the total number of continuous subarrays whose sum equals to k.\n",
    "\n",
    "Example 1:\n",
    "Input:nums = [1,1,1], k = 2\n",
    "Output: 2\n",
    "Note:\n",
    "The length of the array is in range [1, 20,000].\n",
    "The range of numbers in the array is [-1000, 1000] and the range of the integer k is [-1e7, 1e7]."
   ]
  },
  {
   "cell_type": "code",
   "execution_count": 9,
   "metadata": {},
   "outputs": [
    {
     "name": "stdout",
     "output_type": "stream",
     "text": "1 1 0 0 2\n2\n"
    }
   ],
   "source": [
    "# 超时\n",
    "from typing import List\n",
    "class Solution:\n",
    "    def subarraySum(self, nums: List[int], k: int) -> int:\n",
    "        if len(nums)==0:\n",
    "            return 0\n",
    "        if len(nums)==1:\n",
    "            return 1 if nums[0]==k else 0\n",
    "        mid=len(nums)//2\n",
    "        left=self.subarraySum(nums[:mid],k)\n",
    "        right=self.subarraySum(nums[mid+1:],k)\n",
    "        t=0\n",
    "        center=0\n",
    "        for i in range(mid,len(nums)):\n",
    "            t+=nums[i]\n",
    "            if t==k:\n",
    "                center+=1\n",
    "            cur=t\n",
    "            for j in range(mid-1,-1,-1):\n",
    "                cur+=nums[j]\n",
    "                if cur==k:\n",
    "                    center+=1     \n",
    "        # print(mid,nums[mid],left,right,center)\n",
    "        return left+right+center\n",
    "print(Solution().subarraySum(nums = [1,1,1], k = 2))               "
   ]
  },
  {
   "cell_type": "code",
   "execution_count": 16,
   "metadata": {},
   "outputs": [
    {
     "name": "stdout",
     "output_type": "stream",
     "text": "2\n"
    }
   ],
   "source": [
    "from typing import List\n",
    "class Solution:\n",
    "    def subarraySum(self, nums: List[int], k: int) -> int:\n",
    "        pre={}\n",
    "        acc=0\n",
    "        n=0\n",
    "        for num in nums:\n",
    "            acc+=num\n",
    "            if acc==k:\n",
    "                n+=1\n",
    "            if acc-k in pre:\n",
    "                n+=pre[acc-k]\n",
    "            if acc in pre:\n",
    "                pre[acc]+=1\n",
    "            else:\n",
    "                pre[acc]=1\n",
    "        return n\n",
    "print(Solution().subarraySum(nums = [1,1,1], k = 2))    "
   ]
  },
  {
   "cell_type": "code",
   "execution_count": null,
   "metadata": {},
   "outputs": [],
   "source": []
  }
 ]
}