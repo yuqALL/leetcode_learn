{
 "nbformat": 4,
 "nbformat_minor": 2,
 "metadata": {
  "language_info": {
   "name": "python",
   "codemirror_mode": {
    "name": "ipython",
    "version": 3
   },
   "version": "3.6.9"
  },
  "orig_nbformat": 2,
  "file_extension": ".py",
  "mimetype": "text/x-python",
  "name": "python",
  "npconvert_exporter": "python",
  "pygments_lexer": "ipython3",
  "version": 3
 },
 "cells": [
  {
   "cell_type": "code",
   "execution_count": null,
   "metadata": {},
   "outputs": [],
   "source": [
    "Given a string, determine if it is a palindrome, considering only alphanumeric characters and ignoring cases.\n",
    "\n",
    "Note: For the purpose of this problem, we define empty string as valid palindrome.\n",
    "\n",
    "Example 1:\n",
    "\n",
    "Input: \"A man, a plan, a canal: Panama\"\n",
    "Output: true\n",
    "Example 2:\n",
    "\n",
    "Input: \"race a car\"\n",
    "Output: false"
   ]
  },
  {
   "cell_type": "code",
   "execution_count": 12,
   "metadata": {},
   "outputs": [
    {
     "name": "stdout",
     "output_type": "stream",
     "text": "False\n"
    }
   ],
   "source": [
    "class Solution:\n",
    "    def isPalindrome(self, s: str) -> bool:\n",
    "        if not s:\n",
    "            return True\n",
    "        \n",
    "        stack=[]\n",
    "        n=len(s)\n",
    "        p=0\n",
    "        q=n-1\n",
    "        for i in range(n):\n",
    "            if 'A'<=s[p]<='Z' or 'a'<=s[p]<='z' or '0'<=s[p]<='9':\n",
    "                pass\n",
    "            else:\n",
    "                p+=1\n",
    "                continue\n",
    "            if 'A'<=s[q]<='Z'or'a'<=s[q]<='z' or '0'<=s[q]<='9':\n",
    "                pass\n",
    "            else:\n",
    "                q-=1\n",
    "                continue\n",
    "\n",
    "            if str.lower(s[p])==str.lower(s[q]):\n",
    "                p+=1\n",
    "                q-=1\n",
    "            else:\n",
    "                return False\n",
    "        return True\n",
    "print(Solution().isPalindrome(\"0P\"))   "
   ]
  },
  {
   "cell_type": "code",
   "execution_count": 14,
   "metadata": {},
   "outputs": [
    {
     "name": "stdout",
     "output_type": "stream",
     "text": "False\n"
    }
   ],
   "source": [
    "class Solution:\n",
    "    def isPalindrome(self, s: str) -> bool:\n",
    "        left, right = 0, len(s) - 1\n",
    "        while left < right:\n",
    "            if not s[left].isalnum():\n",
    "                left += 1\n",
    "                continue\n",
    "            if not s[right].isalnum():\n",
    "                right -= 1\n",
    "                continue\n",
    "            if s[left].lower() == s[right].lower():\n",
    "                left += 1\n",
    "                right -= 1\n",
    "            else:\n",
    "                break\n",
    "        return right <= left\n",
    "\n",
    "    def isPalindrome2(self, s: str) -> bool:\n",
    "        \"\"\"\n",
    "        使用语言特性进行求解\n",
    "        \"\"\"\n",
    "        s = ''.join(i for i in s if i.isalnum()).lower()\n",
    "        return s == s[::-1]\n",
    "print(Solution().isPalindrome2(\"0P\"))   "
   ]
  },
  {
   "cell_type": "code",
   "execution_count": null,
   "metadata": {},
   "outputs": [],
   "source": []
  }
 ]
}