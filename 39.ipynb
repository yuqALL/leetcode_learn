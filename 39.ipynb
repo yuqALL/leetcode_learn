{
 "nbformat": 4,
 "nbformat_minor": 2,
 "metadata": {
  "language_info": {
   "name": "python",
   "codemirror_mode": {
    "name": "ipython",
    "version": 3
   },
   "version": "3.6.9"
  },
  "orig_nbformat": 2,
  "file_extension": ".py",
  "mimetype": "text/x-python",
  "name": "python",
  "npconvert_exporter": "python",
  "pygments_lexer": "ipython3",
  "version": 3
 },
 "cells": [
  {
   "cell_type": "code",
   "execution_count": null,
   "metadata": {},
   "outputs": [],
   "source": [
    "Given a set of candidate numbers (candidates) (without duplicates) and a target number (target), find all unique combinations in candidates where the candidate numbers sums to target.\n",
    "\n",
    "The same repeated number may be chosen from candidates unlimited number of times.\n",
    "\n",
    "Note:\n",
    "\n",
    "All numbers (including target) will be positive integers.\n",
    "The solution set must not contain duplicate combinations.\n",
    "Example 1:\n",
    "\n",
    "Input: candidates = [2,3,6,7], target = 7,\n",
    "A solution set is:\n",
    "[\n",
    "  [7],\n",
    "  [2,2,3]\n",
    "]\n",
    "Example 2:\n",
    "\n",
    "Input: candidates = [2,3,5], target = 8,\n",
    "A solution set is:\n",
    "[\n",
    "  [2,2,2,2],\n",
    "  [2,3,3],\n",
    "  [3,5]\n",
    "]\n",
    "\n",
    "来源：力扣（LeetCode）\n",
    "链接：https://leetcode-cn.com/problems/combination-sum\n",
    "著作权归领扣网络所有。商业转载请联系官方授权，非商业转载请注明出处。"
   ]
  },
  {
   "cell_type": "code",
   "execution_count": null,
   "metadata": {},
   "outputs": [],
   "source": [
    "class Solution:\n",
    "    def combinationSum(self, candidates: List[int], target: int) -> List[List[int]]:\n",
    "        result=[]\n",
    "        \n",
    "        def back(candidates,target,cur_set):\n",
    "            if target==0:\n",
    "                result.append(cur_set)\n",
    "                return\n",
    "            elif target<0:\n",
    "                return\n",
    "\n",
    "            for i,cur in enumerate(candidates):\n",
    "                temp=cur_set[:]\n",
    "                temp.append(cur)\n",
    "                back(candidates[i:],target-cur,temp)\n",
    "            return\n",
    "        \n",
    "        back(candidates,target,[])\n",
    "        return result"
   ]
  },
  {
   "cell_type": "code",
   "execution_count": 60,
   "metadata": {},
   "outputs": [
    {
     "name": "stdout",
     "output_type": "stream",
     "text": "[[2, 2, 2, 2], [2, 3, 3], [3, 5]]\n"
    }
   ],
   "source": [
    "from typing import List\n",
    "class Solution:\n",
    "    def combinationSum(self, candidates: List[int], target: int) -> List[List[int]]:\n",
    "        result=[]\n",
    "        candidates.sort()\n",
    "        def back(candidates,target,cur_set):\n",
    "            for i,cur in enumerate(candidates):\n",
    "                cur_set.append(cur)\n",
    "                if target-cur<0:\n",
    "                    cur_set.pop()\n",
    "                    break\n",
    "                elif target-cur==0:\n",
    "                    result.append(cur_set[:])\n",
    "                    cur_set.pop()\n",
    "                    break\n",
    "                back(candidates[i:],target-cur,cur_set)\n",
    "                cur_set.pop()\n",
    "            return\n",
    "        \n",
    "        back(candidates,target,[])\n",
    "        return result\n",
    "print(Solution().combinationSum(candidates = [3,2,5], target =8))"
   ]
  },
  {
   "cell_type": "code",
   "execution_count": null,
   "metadata": {},
   "outputs": [],
   "source": []
  }
 ]
}