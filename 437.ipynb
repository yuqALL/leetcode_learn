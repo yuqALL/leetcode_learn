{
 "nbformat": 4,
 "nbformat_minor": 2,
 "metadata": {
  "language_info": {
   "name": "python",
   "codemirror_mode": {
    "name": "ipython",
    "version": 3
   },
   "version": "3.6.9"
  },
  "orig_nbformat": 2,
  "file_extension": ".py",
  "mimetype": "text/x-python",
  "name": "python",
  "npconvert_exporter": "python",
  "pygments_lexer": "ipython3",
  "version": 3,
  "kernelspec": {
   "name": "python3",
   "language": "python",
   "display_name": "Python 3"
  }
 },
 "cells": [
  {
   "cell_type": "code",
   "execution_count": null,
   "metadata": {},
   "outputs": [],
   "source": [
    "You are given a binary tree in which each node contains an integer value.\n",
    "\n",
    "Find the number of paths that sum to a given value.\n",
    "\n",
    "The path does not need to start or end at the root or a leaf, but it must go downwards (traveling only from parent nodes to child nodes).\n",
    "\n",
    "The tree has no more than 1,000 nodes and the values are in the range -1,000,000 to 1,000,000.\n",
    "\n",
    "Example:\n",
    "\n",
    "root = [10,5,-3,3,2,null,11,3,-2,null,1], sum = 8\n",
    "\n",
    "      10\n",
    "     /  \\\n",
    "    5   -3\n",
    "   / \\    \\\n",
    "  3   2   11\n",
    " / \\   \\\n",
    "3  -2   1\n",
    "\n",
    "Return 3. The paths that sum to 8 are:\n",
    "\n",
    "1.  5 -> 3\n",
    "2.  5 -> 2 -> 1\n",
    "3. -3 -> 11"
   ]
  },
  {
   "cell_type": "code",
   "execution_count": 12,
   "metadata": {},
   "outputs": [
    {
     "name": "stdout",
     "output_type": "stream",
     "text": "3 0 0 0\n2 0 0 0\n5 0 0 2\n-3 0 0 1\n10 2 1 0\n3\n"
    }
   ],
   "source": [
    "# Definition for a binary tree node.\n",
    "class TreeNode:\n",
    "    def __init__(self, x):\n",
    "        self.val = x\n",
    "        self.left = None\n",
    "        self.right = None\n",
    "\n",
    "class Solution:\n",
    "    def pathSum(self, root: TreeNode, sum: int) -> int:\n",
    "        if root==None:\n",
    "            return 0\n",
    "        if root.left==None and root.right==None:\n",
    "            if root.val==sum:\n",
    "                return 1\n",
    "            else:\n",
    "                return 0\n",
    "        leftpath=self.pathSum(root.left,sum)\n",
    "        rightpath=self.pathSum(root.right,sum)\n",
    "\n",
    "        def helper(root,sum):\n",
    "            if root==None:\n",
    "                return 0\n",
    "            l=helper(root.left,sum-root.val)\n",
    "            r=helper(root.right,sum-root.val)\n",
    "            c=1 if root.val==sum else 0\n",
    "            return l+r+c\n",
    "        centerpath=helper(root,sum)\n",
    "        # print(root.val,leftpath,rightpath,centerpath)\n",
    "        return leftpath+rightpath+centerpath\n",
    "\n",
    "root=TreeNode(10)\n",
    "root.left=TreeNode(5)\n",
    "root.right=TreeNode(-3)\n",
    "root.left.left=TreeNode(3)\n",
    "root.left.right=TreeNode(2)\n",
    "root.right.right=TreeNode(11)\n",
    "root.left.left.left=TreeNode(3)\n",
    "root.left.left.left=TreeNode(-2)\n",
    "root.left.right.right=TreeNode(1)\n",
    "\n",
    "print(Solution().pathSum(root,8))"
   ]
  },
  {
   "cell_type": "code",
   "execution_count": null,
   "metadata": {},
   "outputs": [],
   "source": []
  }
 ]
}