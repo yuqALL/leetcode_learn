{
 "nbformat": 4,
 "nbformat_minor": 2,
 "metadata": {
  "language_info": {
   "name": "python",
   "codemirror_mode": {
    "name": "ipython",
    "version": 3
   },
   "version": "3.6.9"
  },
  "orig_nbformat": 2,
  "file_extension": ".py",
  "mimetype": "text/x-python",
  "name": "python",
  "npconvert_exporter": "python",
  "pygments_lexer": "ipython3",
  "version": 3
 },
 "cells": [
  {
   "cell_type": "code",
   "execution_count": null,
   "metadata": {},
   "outputs": [],
   "source": [
    "Remove all elements from a linked list of integers that have value val.\n",
    "\n",
    "Example:\n",
    "\n",
    "Input:  1->2->6->3->4->5->6, val = 6\n",
    "Output: 1->2->3->4->5"
   ]
  },
  {
   "cell_type": "code",
   "execution_count": 3,
   "metadata": {},
   "outputs": [
    {
     "name": "stdout",
     "output_type": "stream",
     "text": "1\n2\n3\n<__main__.ListNode object at 0x000001E0B9EBE940>\n"
    }
   ],
   "source": [
    "# Definition for singly-linked list.\n",
    "class ListNode:\n",
    "    def __init__(self, x):\n",
    "        self.val = x\n",
    "        self.next = None\n",
    "\n",
    "class Solution:\n",
    "    def removeElements(self, head: ListNode, val: int) -> ListNode:\n",
    "        p=ListNode(0)\n",
    "        p.next=head\n",
    "        cur=p\n",
    "        while cur.next!=None:\n",
    "            if cur.next.val==val:\n",
    "                cur.next=cur.next.next\n",
    "            else:\n",
    "                cur=cur.next\n",
    "        return p.next\n",
    "head=ListNode(1)\n",
    "head.next=ListNode(2)\n",
    "head.next.next=ListNode(6)\n",
    "head.next.next.next=ListNode(3)\n",
    "head.next.next.next.next=ListNode(6)\n",
    "print(Solution().removeElements(head,6))"
   ]
  },
  {
   "cell_type": "code",
   "execution_count": null,
   "metadata": {},
   "outputs": [],
   "source": []
  }
 ]
}