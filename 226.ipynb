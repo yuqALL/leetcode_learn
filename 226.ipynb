{
 "nbformat": 4,
 "nbformat_minor": 2,
 "metadata": {
  "language_info": {
   "name": "python",
   "codemirror_mode": {
    "name": "ipython",
    "version": 3
   },
   "version": "3.6.9"
  },
  "orig_nbformat": 2,
  "file_extension": ".py",
  "mimetype": "text/x-python",
  "name": "python",
  "npconvert_exporter": "python",
  "pygments_lexer": "ipython3",
  "version": 3
 },
 "cells": [
  {
   "cell_type": "code",
   "execution_count": null,
   "metadata": {},
   "outputs": [],
   "source": [
    "Invert a binary tree.\n",
    "\n",
    "Example:\n",
    "\n",
    "Input:\n",
    "\n",
    "     4\n",
    "   /   \\\n",
    "  2     7\n",
    " / \\   / \\\n",
    "1   3 6   9\n",
    "Output:\n",
    "\n",
    "     4\n",
    "   /   \\\n",
    "  7     2\n",
    " / \\   / \\\n",
    "9   6 3   1\n",
    "Trivia:\n",
    "This problem was inspired by this original tweet by Max Howell:\n",
    "\n",
    "Google: 90% of our engineers use the software you wrote (Homebrew), but you can’t invert a binary tree on a whiteboard so f*** off.\n"
   ]
  },
  {
   "cell_type": "code",
   "execution_count": 2,
   "metadata": {},
   "outputs": [
    {
     "name": "stdout",
     "output_type": "stream",
     "text": "7\n9\n"
    }
   ],
   "source": [
    "# Definition for a binary tree node.\n",
    "class TreeNode:\n",
    "    def __init__(self, x):\n",
    "        self.val = x\n",
    "        self.left = None\n",
    "        self.right = None\n",
    "\n",
    "class Solution:\n",
    "    def invertTree(self, root: TreeNode) -> TreeNode:\n",
    "        if root==None:\n",
    "            return None\n",
    "        if root.left==None and root.right==None:\n",
    "            return root\n",
    "        aft_right=self.invertTree(root.left)\n",
    "        aft_left=self.invertTree(root.right)\n",
    "        root.left=aft_left\n",
    "        root.right=aft_right\n",
    "        \n",
    "        return root\n",
    "    \n",
    "root=TreeNode(4)\n",
    "root.left=TreeNode(2)\n",
    "root.right=TreeNode(7)\n",
    "root.left.left=TreeNode(1)\n",
    "root.left.right=TreeNode(3)\n",
    "root.right.left=TreeNode(6)\n",
    "root.right.right=TreeNode(9)\n",
    "\n",
    "result=Solution().invertTree(root)\n",
    "while result.left!=None:\n",
    "    result=result.left\n",
    "    print(result.val)\n"
   ]
  },
  {
   "cell_type": "code",
   "execution_count": null,
   "metadata": {},
   "outputs": [],
   "source": [
    "class Solution:\n",
    "    def invertTree(self, root: TreeNode) -> TreeNode:\n",
    "        if not root:\n",
    "            return None\n",
    "        stack = [root]\n",
    "        while stack:\n",
    "            node = stack.pop(0)\n",
    "            node.left, node.right = node.right, node.left\n",
    "            if node.left:\n",
    "                stack.append(node.left)\n",
    "            if node.right:\n",
    "                stack.append(node.right)\n",
    "        return root"
   ]
  },
  {
   "cell_type": "code",
   "execution_count": 10,
   "metadata": {},
   "outputs": [
    {
     "name": "stdout",
     "output_type": "stream",
     "text": "7\n9\n"
    }
   ],
   "source": [
    "class TreeNode:\n",
    "    def __init__(self, x):\n",
    "        self.val = x\n",
    "        self.left = None\n",
    "        self.right = None\n",
    "class Solution:\n",
    "    def invertTree(self, root: TreeNode) -> TreeNode:\n",
    "        if not root:\n",
    "            return None\n",
    "        import queue\n",
    "        sq=queue.Queue()\n",
    "        sq.put(root)\n",
    "        while sq.empty() != True:\n",
    "            node = sq.get()\n",
    "            # print(node.val)\n",
    "            node.left, node.right = node.right, node.left\n",
    "            if node.left:\n",
    "                sq.put(node.left)\n",
    "            if node.right:\n",
    "                sq.put(node.right)\n",
    "        return root\n",
    "\n",
    "root=TreeNode(4)\n",
    "root.left=TreeNode(2)\n",
    "root.right=TreeNode(7)\n",
    "root.left.left=TreeNode(1)\n",
    "root.left.right=TreeNode(3)\n",
    "root.right.left=TreeNode(6)\n",
    "root.right.right=TreeNode(9)\n",
    "\n",
    "result=Solution().invertTree(root)\n",
    "while result.left!=None:\n",
    "    result=result.left\n",
    "    print(result.val)"
   ]
  },
  {
   "cell_type": "code",
   "execution_count": null,
   "metadata": {},
   "outputs": [],
   "source": []
  }
 ]
}