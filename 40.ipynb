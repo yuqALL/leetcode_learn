{
 "nbformat": 4,
 "nbformat_minor": 2,
 "metadata": {
  "language_info": {
   "name": "python",
   "codemirror_mode": {
    "name": "ipython",
    "version": 3
   },
   "version": "3.6.9"
  },
  "orig_nbformat": 2,
  "file_extension": ".py",
  "mimetype": "text/x-python",
  "name": "python",
  "npconvert_exporter": "python",
  "pygments_lexer": "ipython3",
  "version": 3
 },
 "cells": [
  {
   "cell_type": "code",
   "execution_count": null,
   "metadata": {},
   "outputs": [],
   "source": [
    "Given a collection of candidate numbers (candidates) and a target number (target), find all unique combinations in candidates where the candidate numbers sums to target.\n",
    "\n",
    "Each number in candidates may only be used once in the combination.\n",
    "\n",
    "Note:\n",
    "\n",
    "All numbers (including target) will be positive integers.\n",
    "The solution set must not contain duplicate combinations.\n",
    "Example 1:\n",
    "\n",
    "Input: candidates = [10,1,2,7,6,1,5], target = 8,\n",
    "A solution set is:\n",
    "[\n",
    "  [1, 7],\n",
    "  [1, 2, 5],\n",
    "  [2, 6],\n",
    "  [1, 1, 6]\n",
    "]\n",
    "Example 2:\n",
    "\n",
    "Input: candidates = [2,5,2,1,2], target = 5,\n",
    "A solution set is:\n",
    "[\n",
    "  [1,2,2],\n",
    "  [5]\n",
    "]\n",
    "\n",
    "来源：力扣（LeetCode）\n",
    "链接：https://leetcode-cn.com/problems/combination-sum-ii\n",
    "著作权归领扣网络所有。商业转载请联系官方授权，非商业转载请注明出处。"
   ]
  },
  {
   "cell_type": "code",
   "execution_count": 34,
   "metadata": {},
   "outputs": [
    {
     "name": "stdout",
     "output_type": "stream",
     "text": "[[2, 6], [1, 1, 6], [1, 2, 5], [1, 7]]\n"
    }
   ],
   "source": [
    "from typing import List\n",
    "class Solution:\n",
    "    def combinationSum2(self, candidates: List[int], target: int) -> List[List[int]]:\n",
    "        result=set()\n",
    "        candidates.sort()\n",
    "        def back(candidates,target,cur_list):\n",
    "            for i,num in enumerate(candidates):\n",
    "                // 1、i > index 表明剪枝的分支一定不是当前层的第 1 个分支\n",
    "            // 2、input[i - 1] == input[i] 表明当前选出来的数等于当前层前一个分支选出来的数\n",
    "            // 因为前一个分支的候选集合一定大于后一个分支的候选集合\n",
    "            // 故后面出现的分支中一定包含了前面分支出现的结果，因此剪枝\n",
    "            // “剪枝”的前提是排序，升序或者降序均可\n",
    "            if (i > index && input[i - 1] == input[i]) {\n",
    "                continue;\n",
    "            }\n",
    "\n",
    "                cur_list.append(num)\n",
    "                \n",
    "                if target-num<0:\n",
    "                    cur_list.pop()\n",
    "                    break\n",
    "                elif target-num==0:\n",
    "                    result.add(tuple(cur_list))\n",
    "                    cur_list.pop()\n",
    "                    break\n",
    "                \n",
    "                back(candidates[i+1:],target-num,cur_list)\n",
    "                cur_list.pop()\n",
    "        back(candidates,target,[])\n",
    "\n",
    "        return [list(x) for x in list(result)]\n",
    "print(Solution().combinationSum2(candidates=[10,1,2,7,6,1,5],target=8))\n"
   ]
  },
  {
   "cell_type": "code",
   "execution_count": 36,
   "metadata": {},
   "outputs": [
    {
     "name": "stdout",
     "output_type": "stream",
     "text": "[[1, 1, 6], [1, 2, 5], [1, 7], [2, 6]]\n"
    }
   ],
   "source": [
    "from typing import List\n",
    "class Solution:\n",
    "    def combinationSum2(self, candidates: List[int], target: int) -> List[List[int]]:\n",
    "        result=[]\n",
    "        candidates.sort()\n",
    "        def back(candidates,target,cur_list):\n",
    "            for i,num in enumerate(candidates):\n",
    "                # // 1、i > index 表明剪枝的分支一定不是当前层的第 1 个分支\n",
    "                # // 2、input[i - 1] == input[i] 表明当前选出来的数等于当前层前一个分支选出来的数\n",
    "                # // 因为前一个分支的候选集合一定大于后一个分支的候选集合\n",
    "                # // 故后面出现的分支中一定包含了前面分支出现的结果，因此剪枝\n",
    "                # // “剪枝”的前提是排序，升序或者降序均可\n",
    "                if i > 0 and candidates[i-1] == candidates[i]:\n",
    "                    continue\n",
    "\n",
    "                cur_list.append(num)\n",
    "                \n",
    "                if target-num<0:\n",
    "                    cur_list.pop()\n",
    "                    break\n",
    "                elif target-num==0:\n",
    "                    result.append(cur_list[:])\n",
    "                    cur_list.pop()\n",
    "                    break\n",
    "                \n",
    "                back(candidates[i+1:],target-num,cur_list)\n",
    "                cur_list.pop()\n",
    "        back(candidates,target,[])\n",
    "\n",
    "        return result\n",
    "print(Solution().combinationSum2(candidates=[10,1,2,7,6,1,5],target=8))"
   ]
  },
  {
   "cell_type": "code",
   "execution_count": null,
   "metadata": {},
   "outputs": [],
   "source": []
  }
 ]
}