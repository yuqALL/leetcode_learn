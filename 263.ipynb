{
 "nbformat": 4,
 "nbformat_minor": 2,
 "metadata": {
  "language_info": {
   "name": "python",
   "codemirror_mode": {
    "name": "ipython",
    "version": 3
   },
   "version": "3.6.9"
  },
  "orig_nbformat": 2,
  "file_extension": ".py",
  "mimetype": "text/x-python",
  "name": "python",
  "npconvert_exporter": "python",
  "pygments_lexer": "ipython3",
  "version": 3
 },
 "cells": [
  {
   "cell_type": "code",
   "execution_count": null,
   "metadata": {},
   "outputs": [],
   "source": [
    "Write a program to check whether a given number is an ugly number.\n",
    "\n",
    "Ugly numbers are positive numbers whose prime factors only include 2, 3, 5.\n",
    "\n",
    "Example 1:\n",
    "\n",
    "Input: 6\n",
    "Output: true\n",
    "Explanation: 6 = 2 × 3\n",
    "Example 2:\n",
    "\n",
    "Input: 8\n",
    "Output: true\n",
    "Explanation: 8 = 2 × 2 × 2\n",
    "Example 3:\n",
    "\n",
    "Input: 14\n",
    "Output: false\n",
    "Explanation: 14 is not ugly since it includes another prime factor 7.\n",
    "Note:\n",
    "\n",
    "1 is typically treated as an ugly number.\n",
    "Input is within the 32-bit signed integer range: [−231,  231 − 1].\n"
   ]
  },
  {
   "cell_type": "code",
   "execution_count": 4,
   "metadata": {},
   "outputs": [
    {
     "name": "stdout",
     "output_type": "stream",
     "text": "True\n[1, 2, 3, 4, 5, 6, 8, 9, 10, 12, 15, 16, 18, 20, 24, 25, 27, 30, 32, 36, 40, 45, 48, 50, 54, 60, 64, 72, 75, 80, 81, 90, 96]\n"
    }
   ],
   "source": [
    "# 暴力法\n",
    "class Solution:\n",
    "    def isUgly(self, num: int) -> bool:\n",
    "        if num<=0:return False\n",
    "        def checkDivideByTTF(num):\n",
    "            if num%2==0:\n",
    "                return num//2\n",
    "            elif num%3==0:\n",
    "                return num//3\n",
    "            elif num%5==0:\n",
    "                return num//5\n",
    "            else:\n",
    "                return 0\n",
    "        t=num\n",
    "        while t>1:\n",
    "            t=checkDivideByTTF(t)\n",
    "        if t==0:\n",
    "            return False\n",
    "        elif t==1:\n",
    "            return True\n",
    "print(Solution().isUgly(15))\n",
    "ugly=[]\n",
    "for i in range(100):\n",
    "    if Solution().isUgly(i):\n",
    "        ugly.append(i)\n",
    "print(ugly)"
   ]
  },
  {
   "cell_type": "code",
   "execution_count": null,
   "metadata": {},
   "outputs": [],
   "source": [
    "# 非递归写法\n",
    "class Solution:\n",
    "    def isUgly(self, num: int) -> bool:\n",
    "        if num <= 0:\n",
    "            return False\n",
    "        for i in (2, 3, 5):\n",
    "            while num % i == 0:\n",
    "                num /= i\n",
    "        return num == 1"
   ]
  }
 ]
}