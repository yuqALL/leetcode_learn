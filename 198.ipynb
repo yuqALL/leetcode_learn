{
 "nbformat": 4,
 "nbformat_minor": 2,
 "metadata": {
  "language_info": {
   "name": "python",
   "codemirror_mode": {
    "name": "ipython",
    "version": 3
   },
   "version": "3.6.9"
  },
  "orig_nbformat": 2,
  "file_extension": ".py",
  "mimetype": "text/x-python",
  "name": "python",
  "npconvert_exporter": "python",
  "pygments_lexer": "ipython3",
  "version": 3
 },
 "cells": [
  {
   "cell_type": "code",
   "execution_count": null,
   "metadata": {},
   "outputs": [],
   "source": [
    "You are a professional robber planning to rob houses along a street. Each house has a certain amount of money stashed, the only constraint stopping you from robbing each of them is that adjacent houses have security system connected and it will automatically contact the police if two adjacent houses were broken into on the same night.\n",
    "\n",
    "Given a list of non-negative integers representing the amount of money of each house, determine the maximum amount of money you can rob tonight without alerting the police.\n",
    "\n",
    "Example 1:\n",
    "\n",
    "Input: [1,2,3,1]\n",
    "Output: 4\n",
    "Explanation: Rob house 1 (money = 1) and then rob house 3 (money = 3).\n",
    "             Total amount you can rob = 1 + 3 = 4.\n",
    "Example 2:\n",
    "\n",
    "Input: [2,7,9,3,1]\n",
    "Output: 12\n",
    "Explanation: Rob house 1 (money = 2), rob house 3 (money = 9) and rob house 5 (money = 1).\n",
    "             Total amount you can rob = 2 + 9 + 1 = 12."
   ]
  },
  {
   "cell_type": "code",
   "execution_count": 6,
   "metadata": {},
   "outputs": [
    {
     "name": "stdout",
     "output_type": "stream",
     "text": "0\n"
    }
   ],
   "source": [
    "# 暴力递归，超时\n",
    "from typing import List\n",
    "class Solution:\n",
    "    def rob(self, nums: List[int]) -> int:\n",
    "        if len(nums)==0:\n",
    "            return 0\n",
    "        max_money=0\n",
    "        if len(nums)==1:\n",
    "            return nums[0]\n",
    "        if len(nums)>2:\n",
    "            cur_rob=nums[0]+self.rob(nums[2:])\n",
    "        else:\n",
    "            cur_rob=nums[0]\n",
    "        cur_not_rob=self.rob(nums[1:])\n",
    "        if cur_rob>cur_not_rob:\n",
    "            max_money+=cur_rob\n",
    "        else:\n",
    "            max_money+=cur_not_rob\n",
    "\n",
    "        return max_money\n",
    "print(Solution().rob([]))"
   ]
  },
  {
   "cell_type": "code",
   "execution_count": 18,
   "metadata": {},
   "outputs": [
    {
     "name": "stdout",
     "output_type": "stream",
     "text": "7\n11\n7\n7\n11\n11\n12\n12\n"
    }
   ],
   "source": [
    "# 暴力递归改动态规划----超时\n",
    "from typing import List\n",
    "class Solution:\n",
    "    def rob(self, nums: List[int]) -> int:\n",
    "        # print(nums)\n",
    "        if len(nums)==0:\n",
    "            return 0\n",
    "        if len(nums)==1:\n",
    "            return nums[0]\n",
    "        max_money=max(self.rob(nums[:-2])+nums[-1],self.rob(nums[:-1]))\n",
    "        print(max_money)\n",
    "        return max_money\n",
    "print(Solution().rob([2,7,9,3,1]))"
   ]
  },
  {
   "cell_type": "code",
   "execution_count": 19,
   "metadata": {},
   "outputs": [
    {
     "name": "stdout",
     "output_type": "stream",
     "text": "11\n11\n12\n12\n"
    }
   ],
   "source": [
    "class Solution:\n",
    "    def rob(self, nums: List[int]) -> int:\n",
    "        if not nums:\n",
    "            return 0\n",
    "\n",
    "        length = len(nums)\n",
    "        if length == 1:\n",
    "            return nums[0]\n",
    "        else:\n",
    "            prev = nums[0]\n",
    "            cur = max(prev, nums[1])\n",
    "            for i in range(2, length):\n",
    "                cur, prev = max(prev + nums[i], cur), cur\n",
    "                print(cur)\n",
    "            return cur\n",
    "\n",
    "print(Solution().rob([2,7,9,3,1]))"
   ]
  }
 ]
}