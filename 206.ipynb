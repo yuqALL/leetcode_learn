{
 "nbformat": 4,
 "nbformat_minor": 2,
 "metadata": {
  "language_info": {
   "name": "python",
   "codemirror_mode": {
    "name": "ipython",
    "version": 3
   },
   "version": "3.6.9"
  },
  "orig_nbformat": 2,
  "file_extension": ".py",
  "mimetype": "text/x-python",
  "name": "python",
  "npconvert_exporter": "python",
  "pygments_lexer": "ipython3",
  "version": 3
 },
 "cells": [
  {
   "cell_type": "code",
   "execution_count": null,
   "metadata": {},
   "outputs": [],
   "source": [
    "Reverse a singly linked list.\n",
    "\n",
    "Example:\n",
    "\n",
    "Input: 1->2->3->4->5->NULL Output: 5->4->3->2->1->NULL Follow up:\n",
    "\n",
    "A linked list can be reversed either iteratively or recursively. Could you implement both?"
   ]
  },
  {
   "cell_type": "code",
   "execution_count": 10,
   "metadata": {},
   "outputs": [
    {
     "name": "stdout",
     "output_type": "stream",
     "text": "6\n3\n6\n2\n<__main__.ListNode object at 0x00000252AAA05D30>\n"
    }
   ],
   "source": [
    "# 迭代\n",
    "class ListNode:\n",
    "    def __init__(self, x):\n",
    "        self.val = x\n",
    "        self.next = None\n",
    "\n",
    "class Solution:\n",
    "    def reverseList(self, head: ListNode) -> ListNode:\n",
    "        if head is None:\n",
    "            return\n",
    "        pre=head\n",
    "        while head.next!=None:\n",
    "            temp=head.next.next\n",
    "            head.next.next=pre\n",
    "            pre=head.next\n",
    "            head.next=temp\n",
    "        while pre.next!=None:\n",
    "            print(pre.val)\n",
    "            pre=pre.next\n",
    "        return head\n",
    "\n",
    "head=ListNode(1)\n",
    "head.next=ListNode(2)\n",
    "head.next.next=ListNode(6)\n",
    "head.next.next.next=ListNode(3)\n",
    "head.next.next.next.next=ListNode(6)\n",
    "print(Solution().reverseList(head))"
   ]
  },
  {
   "cell_type": "code",
   "execution_count": null,
   "metadata": {},
   "outputs": [],
   "source": [
    "class Solution:\n",
    "    def reverseList(self, head: ListNode) -> ListNode:\n",
    "        if not head: return None\n",
    "        prev = None\n",
    "        cur = head\n",
    "        while cur:\n",
    "            cur.next, prev, cur = prev, cur, cur.next\n",
    "        return prev"
   ]
  },
  {
   "cell_type": "code",
   "execution_count": 16,
   "metadata": {},
   "outputs": [
    {
     "name": "stdout",
     "output_type": "stream",
     "text": "6\n3\n6\n2\n<__main__.ListNode object at 0x00000252AA095B70>\n"
    }
   ],
   "source": [
    "# 递归方法\n",
    "class Solution:\n",
    "    def reverseList(self, head: ListNode) -> ListNode:\n",
    "        if not head: return None\n",
    "        if head.next==None:\n",
    "            return head\n",
    "        p=self.reverseList(head.next)\n",
    "        head.next.next=head\n",
    "        head.next=None\n",
    "        return p\n",
    "\n",
    "head=ListNode(1)\n",
    "head.next=ListNode(2)\n",
    "head.next.next=ListNode(6)\n",
    "head.next.next.next=ListNode(3)\n",
    "head.next.next.next.next=ListNode(6)\n",
    "print(Solution().reverseList(head))"
   ]
  },
  {
   "cell_type": "code",
   "execution_count": null,
   "metadata": {},
   "outputs": [],
   "source": []
  }
 ]
}