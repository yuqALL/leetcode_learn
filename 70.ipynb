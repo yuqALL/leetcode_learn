{
 "nbformat": 4,
 "nbformat_minor": 2,
 "metadata": {
  "language_info": {
   "name": "python",
   "codemirror_mode": {
    "name": "ipython",
    "version": 3
   },
   "version": "3.7.3-final"
  },
  "orig_nbformat": 2,
  "file_extension": ".py",
  "mimetype": "text/x-python",
  "name": "python",
  "npconvert_exporter": "python",
  "pygments_lexer": "ipython3",
  "version": 3,
  "kernelspec": {
   "name": "python37364bit5f9bda9e6cb9484e924b74bff44dbf52",
   "display_name": "Python 3.7.3 64-bit"
  }
 },
 "cells": [
  {
   "cell_type": "markdown",
   "execution_count": null,
   "metadata": {},
   "outputs": [],
   "source": [
    "假设你正在爬楼梯。需要 n 阶你才能到达楼顶。\n",
    "\n",
    "每次你可以爬 1 或 2 个台阶。你有多少种不同的方法可以爬到楼顶呢？\n",
    "\n",
    "注意：给定 n 是一个正整数。\n",
    "\n",
    "```\n",
    "示例 1：\n",
    "\n",
    "输入： 2\n",
    "输出： 2\n",
    "解释： 有两种方法可以爬到楼顶。\n",
    "1.  1 阶 + 1 阶\n",
    "2.  2 阶\n",
    "```\n",
    "\n",
    "```\n",
    "示例 2：\n",
    "\n",
    "输入： 3\n",
    "输出： 3\n",
    "解释： 有三种方法可以爬到楼顶。\n",
    "1.  1 阶 + 1 阶 + 1 阶\n",
    "2.  1 阶 + 2 阶\n",
    "3.  2 阶 + 1 阶\n",
    "```\n",
    "\n",
    "来源：力扣（LeetCode）\n",
    "链接：https://leetcode-cn.com/problems/climbing-stairs\n",
    "著作权归领扣网络所有。商业转载请联系官方授权，非商业转载请注明出处。"
   ]
  },
  {
   "cell_type": "code",
   "execution_count": 16,
   "metadata": {},
   "outputs": [
    {
     "data": {
      "text/plain": "89"
     },
     "execution_count": 16,
     "metadata": {},
     "output_type": "execute_result"
    }
   ],
   "source": [
    "#Fib数列\n",
    "\n",
    "class Solution:\n",
    "    def climbStairs(self, n: int) -> int:\n",
    "        ans=0\n",
    "        pre1=0\n",
    "        pre2=1\n",
    "        for i in range(1,n+1):\n",
    "            ans=pre2+pre1\n",
    "            pre1=pre2\n",
    "            pre2=ans\n",
    "        return ans\n",
    "Solution().climbStairs(10)\n"
   ]
  },
  {
   "cell_type": "code",
   "execution_count": 29,
   "metadata": {},
   "outputs": [
    {
     "data": {
      "text/plain": "89"
     },
     "execution_count": 29,
     "metadata": {},
     "output_type": "execute_result"
    }
   ],
   "source": [
    "#矩阵解\n",
    "class Solution:\n",
    "    def climbStairs(self, n: int) -> int:\n",
    "        q=[[1,1],[1,0]]\n",
    "        ret=[[1,0],[0,1]]\n",
    "        while n>0:\n",
    "            if n&1==1:\n",
    "                ret=self.multiply(ret,q)\n",
    "            n=n>>1\n",
    "            q=self.multiply(q,q)\n",
    "        return ret[0][0]\n",
    "    def multiply(self,a,b):\n",
    "        c = [[0,0],[0,0]]\n",
    "        for i in [0,1]:\n",
    "           for j in [0,1]:\n",
    "               c[i][j] = a[i][0] * b[0][j] + a[i][1] * b[1][j]\n",
    "        return c\n",
    "\n",
    "Solution().climbStairs(10)"
   ]
  },
  {
   "cell_type": "code",
   "execution_count": null,
   "metadata": {},
   "outputs": [],
   "source": []
  }
 ]
}