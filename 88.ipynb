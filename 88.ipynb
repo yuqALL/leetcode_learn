{
 "nbformat": 4,
 "nbformat_minor": 2,
 "metadata": {
  "language_info": {
   "name": "python",
   "codemirror_mode": {
    "name": "ipython",
    "version": 3
   },
   "version": "3.6.9"
  },
  "orig_nbformat": 2,
  "file_extension": ".py",
  "mimetype": "text/x-python",
  "name": "python",
  "npconvert_exporter": "python",
  "pygments_lexer": "ipython3",
  "version": 3
 },
 "cells": [
  {
   "cell_type": "code",
   "execution_count": null,
   "metadata": {},
   "outputs": [],
   "source": [
    "# 暴力法\n",
    "class Solution:\n",
    "    def merge(self, nums1: List[int], m: int, nums2: List[int], n: int) -> None:\n",
    "        p=0\n",
    "        for i in range(len(nums2)):\n",
    "            if nums1[p]>nums2[i]:\n",
    "                j=len(nums1)-1\n",
    "                while nums1[j]!=0 and j+1<len(nums1) :\n",
    "                    nums1[j+1]=t\n",
    "                    "
   ]
  },
  {
   "cell_type": "code",
   "execution_count": 34,
   "metadata": {},
   "outputs": [
    {
     "name": "stdout",
     "output_type": "stream",
     "text": "2 4\n3 2\n5 2\n6 2\n[2, 4, 3, 5, 6]\n[1, 2, 4, 3, 5, 6]\n"
    }
   ],
   "source": [
    "# 元素交换，大的元素放nums2\n",
    "from typing import List\n",
    "class Solution:\n",
    "    def merge(self, nums1: List[int], m: int, nums2: List[int], n: int) -> None:\n",
    "        p=0\n",
    "        if n==0:\n",
    "            return\n",
    "        for i in range(m):\n",
    "            if nums1[i]>nums2[p]:\n",
    "                t=nums1[i]\n",
    "                nums1[i]=nums2[p]\n",
    "                nums2[p]=t\n",
    "                p+=1\n",
    "        if p<=n:\n",
    "            for k in range(p,n,1):\n",
    "                for l in range(p-1,-1,-1):\n",
    "                    print(nums2[k],nums2[l])\n",
    "                    if nums2[k]<nums2[l]:\n",
    "                        t=nums2[k]\n",
    "                        nums2[k]=nums2[l]\n",
    "                        nums2[l]=t\n",
    "                        p=k\n",
    "        print(nums2)\n",
    "        for j in range(n):\n",
    "            nums1[m+j]=nums2[j]\n",
    "        \n",
    "        print(nums1)\n",
    "\n",
    "Solution().merge([4,0,0,0,0,0],1,[1,2,3,5,6],5)"
   ]
  },
  {
   "cell_type": "code",
   "execution_count": 41,
   "metadata": {},
   "outputs": [
    {
     "name": "stdout",
     "output_type": "stream",
     "text": "[2, 4, 5, 6, 7, 8]\n"
    }
   ],
   "source": [
    "from typing import List\n",
    "class Solution:\n",
    "    def merge(self, nums1: List[int], m: int, nums2: List[int], n: int) -> None:\n",
    "        p=0\n",
    "        if n==0:\n",
    "            return\n",
    "        for i in range(m+n-1,-1,-1):\n",
    "            if n>0 and m>0:\n",
    "                if nums1[m-1]<nums2[n-1]:\n",
    "                    nums1[i]=nums2[n-1]\n",
    "                    n-=1\n",
    "                else:\n",
    "                    nums1[i]=nums1[m-1]\n",
    "                    m-=1\n",
    "            elif m==0:\n",
    "                nums1[i]=nums2[n-1]\n",
    "                n-=1\n",
    "            else:\n",
    "                nums1[i]=nums1[m-1]\n",
    "                m-=1 \n",
    "        print(nums1)\n",
    "\n",
    "Solution().merge([4,0,0,0,0,0],1,[2,5,6,7,8],5)"
   ]
  }
 ]
}