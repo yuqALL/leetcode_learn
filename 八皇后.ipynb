{
 "nbformat": 4,
 "nbformat_minor": 2,
 "metadata": {
  "language_info": {
   "name": "python",
   "codemirror_mode": {
    "name": "ipython",
    "version": 3
   },
   "version": "3.6.9"
  },
  "orig_nbformat": 2,
  "file_extension": ".py",
  "mimetype": "text/x-python",
  "name": "python",
  "npconvert_exporter": "python",
  "pygments_lexer": "ipython3",
  "version": 3
 },
 "cells": [
  {
   "cell_type": "markdown",
   "execution_count": null,
   "metadata": {},
   "outputs": [],
   "source": [
    "在8×8格的国际象棋上摆放八个皇后，使其不能互相攻击，即任意两个皇后都不能处于同一行、同一列或同一斜线上，问有多少种摆法。"
   ]
  },
  {
   "cell_type": "code",
   "execution_count": null,
   "metadata": {},
   "outputs": [
    {
     "ename": "Error",
     "evalue": "Jupyter cannot be started. Error attempting to locate jupyter: 'Kernelspec' module not installed in the selected interpreter ({0}).\n Please re-install or update 'jupyter'.",
     "output_type": "error",
     "traceback": [
      "Error: Jupyter cannot be started. Error attempting to locate jupyter: 'Kernelspec' module not installed in the selected interpreter ({0}).",
      "Please re-install or update 'jupyter'.",
      "at A.startServer (c:\\Users\\YUQ\\.vscode\\extensions\\ms-python.python-2020.2.63072\\out\\client\\extension.js:1:781100)",
      "at async A.ensureServerAndNotebookImpl (c:\\Users\\YUQ\\.vscode\\extensions\\ms-python.python-2020.2.63072\\out\\client\\extension.js:1:780555)",
      "at async A.ensureServerAndNotebook (c:\\Users\\YUQ\\.vscode\\extensions\\ms-python.python-2020.2.63072\\out\\client\\extension.js:1:780356)",
      "at async A.submitCode (c:\\Users\\YUQ\\.vscode\\extensions\\ms-python.python-2020.2.63072\\out\\client\\extension.js:1:777738)",
      "at async A.reexecuteCell (c:\\Users\\YUQ\\.vscode\\extensions\\ms-python.python-2020.2.63072\\out\\client\\extension.js:75:879007)"
     ]
    }
   ],
   "source": [
    "# 检测皇后之间的位置关系\n",
    "def conflict(queen_str, current_queen):\n",
    "    # 此处的queen_length既是之前保存的queen_list集合的长度，也可以理解为当前current_queen皇后的行下标\n",
    "    queen_length = len(queen_str)\n",
    "    # 定义是否有位置冲突的标签\n",
    "    Flag = False\n",
    "    for index in range(queen_length):\n",
    "        # queen_length - index主要是控制相邻两行的皇后不能处于对角线上，其他的就没要求\n",
    "        if abs(current_queen-int(queen_str[index])) in(0, queen_length-index):\n",
    "            Flag = True\n",
    "            break\n",
    "    return Flag\n",
    "\n",
    "\n",
    "# 定义执行皇后问题的主函数\n",
    "def queens(nums=8, queen_str=\"\"):\n",
    "    final_queens = []\n",
    "\n",
    "    # 定义递归函数，获取所有八皇后的值\n",
    "    def back(queen_str):\n",
    "        # 出口条件\n",
    "        if len(queen_str) == nums:\n",
    "            final_queens.append(queen_str)\n",
    "            return\n",
    "        for index in range(nums):\n",
    "            Flag = conflict(queen_str, index)\n",
    "            # 如果当前位置的皇后是否与之前所有位置的皇后没有冲突，则执行下述代码\n",
    "            if Flag is False:\n",
    "                back(queen_str+str(index))\n",
    "\n",
    "    back(queen_str)\n",
    "    return final_queens\n",
    "\n",
    "\n",
    "if __name__ == \"__main__\":\n",
    "    final_queens = queens()\n",
    "    print(final_queens)\n",
    "    print(len(final_queens))"
   ]
  },
  {
   "cell_type": "code",
   "execution_count": 5,
   "metadata": {},
   "outputs": [
    {
     "name": "stdout",
     "output_type": "stream",
     "text": "[2, 2, 2] [1, 2, 2]\n"
    }
   ],
   "source": [
    "x=[1,2,2]\n",
    "y=x[:]\n",
    "x[0]=2\n",
    "print(x,y)"
   ]
  },
  {
   "cell_type": "code",
   "execution_count": null,
   "metadata": {},
   "outputs": [],
   "source": []
  }
 ]
}