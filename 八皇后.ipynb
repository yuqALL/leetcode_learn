{
 "nbformat": 4,
 "nbformat_minor": 2,
 "metadata": {
  "language_info": {
   "name": "python",
   "codemirror_mode": {
    "name": "ipython",
    "version": 3
   },
   "version": "3.6.9"
  },
  "orig_nbformat": 2,
  "file_extension": ".py",
  "mimetype": "text/x-python",
  "name": "python",
  "npconvert_exporter": "python",
  "pygments_lexer": "ipython3",
  "version": 3
 },
 "cells": [
  {
   "cell_type": "markdown",
   "execution_count": null,
   "metadata": {},
   "outputs": [],
   "source": [
    "在8×8格的国际象棋上摆放八个皇后，使其不能互相攻击，即任意两个皇后都不能处于同一行、同一列或同一斜线上，问有多少种摆法。"
   ]
  },
  {
   "cell_type": "code",
   "execution_count": 1,
   "metadata": {},
   "outputs": [
    {
     "name": "stdout",
     "output_type": "stream",
     "text": "['04752613', '05726314', '06357142', '06471352', '13572064', '14602753', '14630752', '15063724', '15720364', '16257403', '16470352', '17502463', '20647135', '24170635', '24175360', '24603175', '24730615', '25147063', '25160374', '25164073', '25307461', '25317460', '25703641', '25704613', '25713064', '26174035', '26175304', '27360514', '30471625', '30475261', '31475026', '31625704', '31625740', '31640752', '31746025', '31750246', '35041726', '35716024', '35720641', '36074152', '36271405', '36415027', '36420571', '37025164', '37046152', '37420615', '40357162', '40731625', '40752613', '41357206', '41362750', '41506372', '41703625', '42057136', '42061753', '42736051', '46027531', '46031752', '46137025', '46152037', '46152073', '46302751', '47302516', '47306152', '50417263', '51602473', '51603742', '52064713', '52073164', '52074136', '52460317', '52470316', '52613704', '52617403', '52630714', '53047162', '53174602', '53602417', '53607142', '57130642', '60275314', '61307425', '61520374', '62057413', '62714053', '63147025', '63175024', '64205713', '71306425', '71420635', '72051463', '73025164']\n92\n"
    }
   ],
   "source": [
    "# 检测皇后之间的位置关系\n",
    "def conflict(queen_str, current_queen):\n",
    "    # 此处的queen_length既是之前保存的queen_list集合的长度，也可以理解为当前current_queen皇后的行下标\n",
    "    queen_length = len(queen_str)\n",
    "    # 定义是否有位置冲突的标签\n",
    "    Flag = False\n",
    "    for index in range(queen_length):\n",
    "        # queen_length - index主要是控制相邻两行的皇后不能处于对角线上，其他的就没要求\n",
    "        if abs(current_queen-int(queen_str[index])) in(0, queen_length-index):\n",
    "            Flag = True\n",
    "            break\n",
    "    return Flag\n",
    "\n",
    "\n",
    "# 定义执行皇后问题的主函数\n",
    "def queens(nums=8, queen_str=\"\"):\n",
    "    final_queens = []\n",
    "\n",
    "    # 定义递归函数，获取所有八皇后的值\n",
    "    def back(queen_str):\n",
    "        # 出口条件\n",
    "        if len(queen_str) == nums:\n",
    "            final_queens.append(queen_str)\n",
    "            return\n",
    "        for index in range(nums):\n",
    "            Flag = conflict(queen_str, index)\n",
    "            # 如果当前位置的皇后是否与之前所有位置的皇后没有冲突，则执行下述代码\n",
    "            if Flag is False:\n",
    "                back(queen_str+str(index))\n",
    "\n",
    "    back(queen_str)\n",
    "    return final_queens\n",
    "\n",
    "\n",
    "if __name__ == \"__main__\":\n",
    "    final_queens = queens()\n",
    "    print(final_queens)\n",
    "    print(len(final_queens))"
   ]
  },
  {
   "cell_type": "code",
   "execution_count": 5,
   "metadata": {},
   "outputs": [
    {
     "name": "stdout",
     "output_type": "stream",
     "text": "[2, 2, 2] [1, 2, 2]\n"
    }
   ],
   "source": [
    "x=[1,2,2]\n",
    "y=x[:]\n",
    "x[0]=2\n",
    "print(x,y)"
   ]
  },
  {
   "cell_type": "code",
   "execution_count": null,
   "metadata": {},
   "outputs": [],
   "source": []
  }
 ]
}