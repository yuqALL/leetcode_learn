{
 "nbformat": 4,
 "nbformat_minor": 2,
 "metadata": {
  "language_info": {
   "name": "python",
   "codemirror_mode": {
    "name": "ipython",
    "version": 3
   },
   "version": "3.6.9"
  },
  "orig_nbformat": 2,
  "file_extension": ".py",
  "mimetype": "text/x-python",
  "name": "python",
  "npconvert_exporter": "python",
  "pygments_lexer": "ipython3",
  "version": 3
 },
 "cells": [
  {
   "cell_type": "code",
   "execution_count": null,
   "metadata": {},
   "outputs": [],
   "source": [
    "Given an integer (signed 32 bits), write a function to check whether it is a power of 4.\n",
    "\n",
    "Example 1:\n",
    "\n",
    "Input: 16\n",
    "Output: true\n",
    "Example 2:\n",
    "\n",
    "Input: 5\n",
    "Output: false\n",
    "Follow up: Could you solve it without loops/recursion?"
   ]
  },
  {
   "cell_type": "code",
   "execution_count": 6,
   "metadata": {},
   "outputs": [
    {
     "name": "stdout",
     "output_type": "stream",
     "text": "False\n"
    }
   ],
   "source": [
    "class Solution:\n",
    "    def isPowerOfFour(self, num: int) -> bool:\n",
    "        if num==0:\n",
    "            return False\n",
    "        right_one=num&(~(num-1))\n",
    "        if num-right_one==0 and num&0x55555555==num:\n",
    "            return True\n",
    "        return False\n",
    "print(Solution().isPowerOfFour(2))"
   ]
  },
  {
   "cell_type": "code",
   "execution_count": null,
   "metadata": {},
   "outputs": [],
   "source": []
  }
 ]
}